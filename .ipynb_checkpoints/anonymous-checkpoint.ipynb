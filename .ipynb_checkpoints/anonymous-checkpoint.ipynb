{
 "cells": [
  {
   "cell_type": "markdown",
   "metadata": {},
   "source": [
    "### 关联规则挖掘\n",
    "### github地址：https://github.com/cppccp/anonymous\n",
    "3220220906 崔鹏"
   ]
  },
  {
   "cell_type": "code",
   "execution_count": 9,
   "metadata": {},
   "outputs": [
    {
     "name": "stdout",
     "output_type": "stream",
     "text": [
      "countsof transaction: 32711, counts of weburl: 294\n"
     ]
    }
   ],
   "source": [
    "# 数据清洗并提取用户浏览记录\n",
    "file = './anonymous-msweb.data'\n",
    "webid2weburl = dict()\n",
    "transactions = []\n",
    "for line in open(file, 'r').readlines():\n",
    "    if line.startswith('A'):\n",
    "        elems = line.split(',')\n",
    "        webid, weburl = int(elems[1]), elems[-1].strip('\\n')\n",
    "        webid2weburl[webid] = weburl\n",
    "    elif line.startswith('C'):  # new transaction begin\n",
    "        transactions.append([])\n",
    "    elif line.startswith('V'):\n",
    "        webid = line.split(',')[1]\n",
    "        transactions[-1].append(webid)\n",
    "\n",
    "print(f\"countsof transaction: {len(transactions)}, counts of weburl: {len(webid2weburl)}\")"
   ]
  },
  {
   "cell_type": "code",
   "execution_count": 32,
   "metadata": {},
   "outputs": [
    {
     "name": "stderr",
     "output_type": "stream",
     "text": [
      "100%|██████████| 32711/32711 [00:00<00:00, 672436.35it/s]\n"
     ]
    },
    {
     "name": "stdout",
     "output_type": "stream",
     "text": [
      "最常被访问的网址是: \n",
      "weburl: \"/msdownload\", visit counts: 10836\n",
      "weburl: \"/ie\", visit counts: 9383\n",
      "weburl: \"/search\", visit counts: 8463\n",
      "weburl: \"/isapi\", visit counts: 5330\n",
      "weburl: \"/products\", visit counts: 5108\n",
      "set min support count as 291\n"
     ]
    },
    {
     "data": {
      "image/png": "[encoded data removed]",
      "text/plain": [
       "<Figure size 2160x360 with 1 Axes>"
      ]
     },
     "metadata": {
      "needs_background": "light"
     },
     "output_type": "display_data"
    }
   ],
   "source": [
    "# 分析最经常被访问的页面、页面访问量分布等\n",
    "import numpy as np\n",
    "from collections import Counter\n",
    "from tqdm import tqdm \n",
    "\n",
    "WEB_CNT = len(webid2weburl)\n",
    "webid2cnt = Counter()\n",
    "for transcation in tqdm(transactions, total=len(transactions)):\n",
    "    for item in transcation:\n",
    "        webid2cnt[item] += 1\n",
    "print(\"最常被访问的网址是: \")\n",
    "for webid, cnt in webid2cnt.most_common(5):\n",
    "    weburl = webid2weburl[webid]\n",
    "    print(f'weburl: {weburl}, visit counts: {cnt}')\n",
    "\n",
    "# 画图分析\n",
    "import matplotlib.pyplot as plt\n",
    "plt.figure(figsize=(30,5))\n",
    "# xticks = [webid2weburl[webid] for webid,visit_cnt in webid2cnt.most_common()]\n",
    "y = [visit_cnt for webid,visit_cnt in webid2cnt.most_common()]\n",
    "x = np.arange(len(y))\n",
    "plt.bar(x, y)\n",
    "# plt.xticks(x, xticks)\n"
   ]
  },
  {
   "cell_type": "markdown",
   "metadata": {},
   "source": [
    "#### 分析\n",
    "从上述图可以看出，大多数网站访问量都很小，不具有分析价值，访问量在第50位的地方作为边界值。"
   ]
  },
  {
   "cell_type": "code",
   "execution_count": 64,
   "metadata": {},
   "outputs": [
    {
     "name": "stdout",
     "output_type": "stream",
     "text": [
      "项目集长度: 1, 项目集数量: 35\n"
     ]
    },
    {
     "name": "stderr",
     "output_type": "stream",
     "text": [
      "100%|██████████| 35/35 [00:05<00:00,  6.89it/s]\n"
     ]
    },
    {
     "name": "stdout",
     "output_type": "stream",
     "text": [
      "项目集长度: 2, 项目集数量: 49\n"
     ]
    },
    {
     "name": "stderr",
     "output_type": "stream",
     "text": [
      "100%|██████████| 49/49 [00:00<00:00, 77.44it/s]\n"
     ]
    },
    {
     "name": "stdout",
     "output_type": "stream",
     "text": [
      "项目集长度: 3, 项目集数量: 28\n"
     ]
    },
    {
     "name": "stderr",
     "output_type": "stream",
     "text": [
      "100%|██████████| 28/28 [00:00<00:00, 728.34it/s]\n"
     ]
    },
    {
     "name": "stdout",
     "output_type": "stream",
     "text": [
      "项目集长度: 4, 项目集数量: 2\n"
     ]
    },
    {
     "name": "stderr",
     "output_type": "stream",
     "text": [
      "100%|██████████| 2/2 [00:00<00:00, 18935.91it/s]\n"
     ]
    }
   ],
   "source": [
    "def get_itemset_support(itemset):\n",
    "    ans = 0\n",
    "    for transaction in transactions:\n",
    "        if len(itemset) > len(transaction):\n",
    "            continue\n",
    "        exist = True\n",
    "        for item in itemset:\n",
    "            if item not in transaction:\n",
    "                exist = False\n",
    "                break\n",
    "        if exist:\n",
    "            ans += 1\n",
    "    return ans\n",
    "\n",
    "        \n",
    "def Apriori(table, items, min_sup):\n",
    "    new_table = []\n",
    "    itemset_set = set()\n",
    "    for itemset, _ in table:\n",
    "        itemset_set.add(','.join(itemset))\n",
    "    for itemset, _ in tqdm(table, total=len(table)):\n",
    "        for item in items:\n",
    "            if item > itemset[-1]:  # 新增加的item\n",
    "                mark = True\n",
    "                for i in range(len(itemset)):  # n-1 itemset\n",
    "                    itemset_prior = itemset[:i] + itemset[i+1:] + [item]\n",
    "                    if ','.join(itemset_prior) not in itemset_set:\n",
    "                        mark = False\n",
    "                        break\n",
    "                if not mark:\n",
    "                    continue\n",
    "                new_itemset = itemset[:] + [item]\n",
    "                new_support = get_itemset_support(new_itemset)\n",
    "                if new_support > min_sup:\n",
    "                    new_table.append([new_itemset, new_support])\n",
    "    return new_table\n",
    "\n",
    "\n",
    "MIN_SUP = 500\n",
    "items = [webid for webid, cnt in webid2cnt.items() if cnt >= MIN_SUP]  # 初始项目集\n",
    "table = [[[webid], cnt] for webid, cnt in webid2cnt.items() if cnt >= MIN_SUP]  # 初始候选集\n",
    "\n",
    "item_length = 1\n",
    "while len(table) > 0:\n",
    "    print(f\"项目集长度: {item_length}, 项目集数量: {len(table)}\")\n",
    "    new_table = Apriori(table, items, MIN_SUP)\n",
    "    if len(new_table) > 0:\n",
    "        table = new_table\n",
    "    else:\n",
    "        break\n",
    "    item_length += 1\n"
   ]
  },
  {
   "cell_type": "code",
   "execution_count": 67,
   "metadata": {},
   "outputs": [
    {
     "name": "stdout",
     "output_type": "stream",
     "text": [
      "项目集: ['1001', '1003', '1018', '1035'], 支持度: 0.015, 置信度: 0.462 提升度: 30.093\n",
      "项目集: ['1008', '1009', '1018', '1035'], 支持度: 0.020, 置信度: 0.673 提升度: 33.041\n"
     ]
    }
   ],
   "source": [
    "# 计算置信度\n",
    "def confidence(itemset):\n",
    "    support_whole = get_itemset_support(itemset)\n",
    "    support_prior = get_itemset_support(itemset[:-1])\n",
    "    return support_whole / support_prior\n",
    "\n",
    "for itemset, cnt in table:\n",
    "    support_rate = get_itemset_support(itemset) / len(transactions)\n",
    "    conf = confidence(itemset)\n",
    "    print(f\"项目集: {itemset}, 支持度: {support_rate:.3f}, 置信度: {conf:.3f} 提升度: {conf / support_rate:.3f}\")\n",
    "    # print(conf)"
   ]
  },
  {
   "cell_type": "markdown",
   "metadata": {},
   "source": [
    "#### 分析\n",
    "从上述结果来看，最终确定了4个强关联的url,通过置信度和提升度可以看出，所选择的关联规则确实有用。"
   ]
  },
  {
   "cell_type": "code",
   "execution_count": 70,
   "metadata": {},
   "outputs": [
    {
     "name": "stdout",
     "output_type": "stream",
     "text": [
      "推荐的项目为: \n",
      "['\"/support\"', '\"/kb\"', '\"/isapi\"', '\"/windowssupport\"']\n",
      "['\"/msdownload\"', '\"/windows\"', '\"/isapi\"', '\"/windowssupport\"']\n"
     ]
    }
   ],
   "source": [
    "print(\"推荐的项目为: \")\n",
    "for itemset, support in table:\n",
    "    urls = [webid2weburl[item] for item in itemset]\n",
    "    print(urls)"
   ]
  },
  {
   "cell_type": "markdown",
   "metadata": {},
   "source": [
    "#### 结论\n",
    "根据上述分析，推荐 support kb ispai windowssupport 作为一个导航栏菜单\n",
    "或者 msdownload, windows, isapi, windowssupport 作为一个导航栏菜单"
   ]
  }
 ],
 "metadata": {
  "kernelspec": {
   "display_name": "Python 3 (ipykernel)",
   "language": "python",
   "name": "python3"
  },
  "language_info": {
   "codemirror_mode": {
    "name": "ipython",
    "version": 3
   },
   "file_extension": ".py",
   "mimetype": "text/x-python",
   "name": "python",
   "nbconvert_exporter": "python",
   "pygments_lexer": "ipython3",
   "version": "3.7.4"
  }
 },
 "nbformat": 4,
 "nbformat_minor": 2
}
